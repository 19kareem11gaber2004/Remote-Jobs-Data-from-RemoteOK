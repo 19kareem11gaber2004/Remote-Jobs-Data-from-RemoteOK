{
  "nbformat": 4,
  "nbformat_minor": 0,
  "metadata": {
    "colab": {
      "provenance": []
    },
    "kernelspec": {
      "name": "python3",
      "display_name": "Python 3"
    },
    "language_info": {
      "name": "python"
    }
  },
  "cells": [
    {
      "cell_type": "code",
      "source": [
        "import requests\n",
        "from bs4 import BeautifulSoup\n",
        "import pandas as pd\n",
        "import time\n",
        "\n",
        "headers = {'User-Agent': 'Mozilla/5.0'}\n",
        "\n",
        "job_list = []\n",
        "\n",
        "# RemoteOK لد\n",
        "categories = [\"remote-dev\", \"remote-data\", \"remote-design\", \"remote-marketing\", \"remote-customer-support\"]\n",
        "\n",
        "for category in categories:\n",
        "    url = f\"https://remoteok.com/{category}-jobs\"\n",
        "    print(f\"🔄 Scraping {url}\")\n",
        "    response = requests.get(url, headers=headers)\n",
        "    soup = BeautifulSoup(response.text, \"html.parser\")\n",
        "    jobs = soup.find_all(\"tr\", class_=\"job\")\n",
        "\n",
        "    for job in jobs:\n",
        "        try:\n",
        "            title = job.find(\"h2\", itemprop=\"title\").text.strip()\n",
        "            company = job.find(\"h3\", itemprop=\"name\").text.strip()\n",
        "            date = job.find(\"time\")[\"datetime\"].strip()\n",
        "            tags = [tag.text.strip() for tag in job.find_all(\"span\", class_=\"tag\")]\n",
        "            job_url = \"https://remoteok.com\" + job[\"data-href\"]\n",
        "\n",
        "            job_list.append({\n",
        "                \"Job Title\": title,\n",
        "                \"Company\": company,\n",
        "                \"Date Posted\": date,\n",
        "                \"Tags\": \", \".join(tags),\n",
        "                \"Category\": category.replace(\"remote-\", \"\"),\n",
        "                \"URL\": job_url\n",
        "            })\n",
        "        except Exception as e:\n",
        "            continue\n",
        "\n",
        "    # 💤 تأخير بسيط لتجنب الحظر\n",
        "    time.sleep(2)\n",
        "\n",
        "# حفظ البيانات\n",
        "df = pd.DataFrame(job_list)\n",
        "df.to_csv(\"remoteok_big_dataset.csv\", index=False)\n",
        "print(f\"✅ تم حفظ {len(df)} وظيفة في ملف remoteok_big_dataset.csv\")\n"
      ],
      "metadata": {
        "colab": {
          "base_uri": "https://localhost:8080/"
        },
        "id": "P2jY6Xi0hbbP",
        "outputId": "a576d1dd-03d6-4456-820d-c205fc752548"
      },
      "execution_count": 3,
      "outputs": [
        {
          "output_type": "stream",
          "name": "stdout",
          "text": [
            "🔄 Scraping https://remoteok.com/remote-dev-jobs\n",
            "🔄 Scraping https://remoteok.com/remote-data-jobs\n",
            "🔄 Scraping https://remoteok.com/remote-design-jobs\n",
            "🔄 Scraping https://remoteok.com/remote-marketing-jobs\n",
            "🔄 Scraping https://remoteok.com/remote-customer-support-jobs\n",
            "✅ تم حفظ 100 وظيفة في ملف remoteok_big_dataset.csv\n"
          ]
        }
      ]
    },
    {
      "cell_type": "markdown",
      "source": [],
      "metadata": {
        "id": "OD__Nb4zmQOp"
      }
    }
  ]
}